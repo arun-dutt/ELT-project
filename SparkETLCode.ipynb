{
 "cells": [
  {
   "cell_type": "markdown",
   "metadata": {},
   "source": [
    "# ETL Project"
   ]
  },
  {
   "cell_type": "code",
   "execution_count": 1,
   "metadata": {},
   "outputs": [],
   "source": [
    "# setting environment for jupyter notebook \n",
    "import os\n",
    "import sys\n",
    "os.environ[\"PYSPARK_PYTHON\"] = \"/opt/cloudera/parcels/Anaconda/bin/python\"\n",
    "os.environ[\"JAVA_HOME\"] = \"/usr/java/jdk1.8.0_161/jre\"\n",
    "os.environ[\"SPARK_HOME\"] = \"/opt/cloudera/parcels/SPARK2-2.3.0.cloudera2-1.cdh5.13.3.p0.316101/lib/spark2/\"\n",
    "os.environ[\"PYLIB\"] = os.environ[\"SPARK_HOME\"] + \"/python/lib\"\n",
    "sys.path.insert(0, os.environ[\"PYLIB\"] +\"/py4j-0.10.6-src.zip\")\n",
    "sys.path.insert(0, os.environ[\"PYLIB\"] +\"/pyspark.zip\")"
   ]
  },
  {
   "cell_type": "code",
   "execution_count": 2,
   "metadata": {},
   "outputs": [],
   "source": [
    "# impoting required function and libraries\n",
    "from pyspark.sql.functions import *\n",
    "from pyspark import SparkContext, SparkConf, SQLContext\n",
    "from pyspark.sql.functions import unix_timestamp, from_unixtime\n",
    "from pyspark.sql.window import Window\n",
    "from pyspark.sql.types import *\n",
    "from pyspark.sql import functions as F"
   ]
  },
  {
   "cell_type": "code",
   "execution_count": 3,
   "metadata": {
    "scrolled": true
   },
   "outputs": [
    {
     "data": {
      "text/html": [
       "\n",
       "        <div>\n",
       "            <p><b>SparkContext</b></p>\n",
       "\n",
       "            <p><a href=\"http://ip-10-0-0-218.ec2.internal:4040\">Spark UI</a></p>\n",
       "\n",
       "            <dl>\n",
       "              <dt>Version</dt>\n",
       "                <dd><code>v2.3.0.cloudera2</code></dd>\n",
       "              <dt>Master</dt>\n",
       "                <dd><code>yarn-client</code></dd>\n",
       "              <dt>AppName</dt>\n",
       "                <dd><code>ATM_TRANS</code></dd>\n",
       "            </dl>\n",
       "        </div>\n",
       "        "
      ],
      "text/plain": [
       "<SparkContext master=yarn-client appName=ATM_TRANS>"
      ]
     },
     "execution_count": 3,
     "metadata": {},
     "output_type": "execute_result"
    }
   ],
   "source": [
    "conf = SparkConf().setAppName(\"ATM_TRANS\").setMaster(\"yarn-client\")\n",
    "sc = SparkContext(conf=conf)\n",
    "sc"
   ]
  },
  {
   "cell_type": "code",
   "execution_count": 4,
   "metadata": {},
   "outputs": [
    {
     "data": {
      "text/html": [
       "\n",
       "            <div>\n",
       "                <p><b>SparkSession - hive</b></p>\n",
       "                \n",
       "        <div>\n",
       "            <p><b>SparkContext</b></p>\n",
       "\n",
       "            <p><a href=\"http://ip-10-0-0-218.ec2.internal:4040\">Spark UI</a></p>\n",
       "\n",
       "            <dl>\n",
       "              <dt>Version</dt>\n",
       "                <dd><code>v2.3.0.cloudera2</code></dd>\n",
       "              <dt>Master</dt>\n",
       "                <dd><code>yarn-client</code></dd>\n",
       "              <dt>AppName</dt>\n",
       "                <dd><code>ATM_TRANS</code></dd>\n",
       "            </dl>\n",
       "        </div>\n",
       "        \n",
       "            </div>\n",
       "        "
      ],
      "text/plain": [
       "<pyspark.sql.session.SparkSession at 0x7f1b4c87e4d0>"
      ]
     },
     "execution_count": 4,
     "metadata": {},
     "output_type": "execute_result"
    }
   ],
   "source": [
    "from pyspark.sql import SparkSession\n",
    "spark = SparkSession.builder.appName(\"ATM_TRANS\").master(\"local\").getOrCreate()\n",
    "spark"
   ]
  },
  {
   "cell_type": "code",
   "execution_count": 6,
   "metadata": {},
   "outputs": [],
   "source": [
    "# create an input schema using StructType\n",
    "fileSchema = StructType([StructField('year', IntegerType(),True),\n",
    "                        StructField('month', StringType(),True),\n",
    "                        StructField('day', IntegerType(),True),\n",
    "                        StructField('weekday',StringType(),True),\n",
    "                        StructField('hour', IntegerType(),True),\n",
    "                        StructField('atm_status', StringType(),True),\n",
    "                        StructField('atm_id', StringType(),True),\n",
    "                        StructField('atm_manufacturer', StringType(),True),\n",
    "                        StructField('atm_location', StringType(),True),\n",
    "                        StructField('atm_streetname', StringType(),True),\n",
    "                        StructField('atm_street_number', IntegerType(),True),\n",
    "                        StructField('atm_zipcode', IntegerType(),True),\n",
    "                        StructField('atm_lat', FloatType(),True),\n",
    "                        StructField('atm_lon', FloatType(),True),\n",
    "                        StructField('currency', StringType(),True),\n",
    "                        StructField('card_type', StringType(),True),\n",
    "                        StructField('transaction_amount', StringType(),True), \n",
    "                        StructField('service', StringType(),True),\n",
    "                        StructField('message_code', StringType(),True),\n",
    "                        StructField('message_text', StringType(),True),\n",
    "                        StructField('weather_lat', FloatType(),True),\n",
    "                        StructField('weather_lon', FloatType(),True),\n",
    "                        StructField('weather_city_id', IntegerType(),True),\n",
    "                        StructField('weather_city_name', StringType(),True), \n",
    "                        StructField('temp', FloatType(),True),\n",
    "                        StructField('pressure', IntegerType(),True),\n",
    "                        StructField('humidity', IntegerType(),True),\n",
    "                        StructField('wind_speed', IntegerType(),True),                        \n",
    "                        StructField('wind_deg', IntegerType(),True),\n",
    "                        StructField('rain_3h', FloatType(),True),\n",
    "                        StructField('cloud_all', IntegerType(),True),\n",
    "                        StructField('weather_id', IntegerType(),True),\n",
    "                        StructField('weather_main', StringType(),True),\n",
    "                        StructField('weather_description', StringType(),True),\n",
    "                        ])"
   ]
  },
  {
   "cell_type": "code",
   "execution_count": 7,
   "metadata": {},
   "outputs": [],
   "source": [
    "#read the data using the input schema created\n",
    "file1 = spark.read.csv(\"atm_trans/part-m-00000\" ,header = True, schema = fileSchema)"
   ]
  },
  {
   "cell_type": "code",
   "execution_count": 8,
   "metadata": {},
   "outputs": [
    {
     "data": {
      "text/plain": [
       "2468572"
      ]
     },
     "execution_count": 8,
     "metadata": {},
     "output_type": "execute_result"
    }
   ],
   "source": [
    "# verifying the data using the count function \n",
    "spark.read.csv(\"atm_trans/part-m-00000\" , schema = fileSchema).count()"
   ]
  },
  {
   "cell_type": "code",
   "execution_count": 9,
   "metadata": {},
   "outputs": [
    {
     "name": "stdout",
     "output_type": "stream",
     "text": [
      "+----+-------+---+-------+----+----------+------+----------------+------------+---------------+-----------------+-----------+-------+-------+--------+----------+------------------+----------+------------+------------+-----------+-----------+---------------+-----------------+------+--------+--------+----------+--------+-------+---------+----------+------------+--------------------+\n",
      "|year|  month|day|weekday|hour|atm_status|atm_id|atm_manufacturer|atm_location| atm_streetname|atm_street_number|atm_zipcode|atm_lat|atm_lon|currency| card_type|transaction_amount|   service|message_code|message_text|weather_lat|weather_lon|weather_city_id|weather_city_name|  temp|pressure|humidity|wind_speed|wind_deg|rain_3h|cloud_all|weather_id|weather_main| weather_description|\n",
      "+----+-------+---+-------+----+----------+------+----------------+------------+---------------+-----------------+-----------+-------+-------+--------+----------+------------------+----------+------------+------------+-----------+-----------+---------------+-----------------+------+--------+--------+----------+--------+-------+---------+----------+------------+--------------------+\n",
      "|2017|January|  1| Sunday|   0|  Inactive|     2|             NCR|    Vejgaard|     Hadsundvej|               20|       9000| 57.043|   9.95|     DKK|MasterCard|              1764|Withdrawal|        null|        null|     57.048|      9.935|        2616235|     NÃ¸rresundby|280.64|    1020|      93|         9|     250|   0.59|       92|       500|        Rain|          light rain|\n",
      "|2017|January|  1| Sunday|   0|  Inactive|     2|             NCR|    Vejgaard|     Hadsundvej|               20|       9000| 57.043|   9.95|     DKK|      VISA|              1891|Withdrawal|        null|        null|     57.048|      9.935|        2616235|     NÃ¸rresundby|280.64|    1020|      93|         9|     250|   0.59|       92|       500|        Rain|          light rain|\n",
      "|2017|January|  1| Sunday|   0|  Inactive|     3|             NCR|       Ikast|RÃ¥dhusstrÃ¦det|               12|       7430| 56.139|  9.154|     DKK|      VISA|              4166|Withdrawal|        null|        null|     56.139|      9.158|        2619426|            Ikast|281.15|    1011|     100|         6|     240|    0.0|       75|       300|     Drizzle|light intensity d...|\n",
      "|2017|January|  1| Sunday|   0|    Active|     4|             NCR|  Svogerslev|     BrÃ¸nsager|                1|       4000| 55.634| 12.018|     DKK|MasterCard|              5153|Withdrawal|        null|        null|     55.642|      12.08|        2614481|         Roskilde|280.61|    1014|      87|         7|     260|    0.0|       88|       701|        Mist|                mist|\n",
      "|2017|January|  1| Sunday|   0|    Active|     5|             NCR|        Nibe|         Torvet|                1|       9240| 56.983|  9.639|     DKK|MasterCard|              3269|Withdrawal|        null|        null|     56.981|      9.639|        2616483|             Nibe|280.64|    1020|      93|         9|     250|   0.59|       92|       500|        Rain|          light rain|\n",
      "+----+-------+---+-------+----+----------+------+----------------+------------+---------------+-----------------+-----------+-------+-------+--------+----------+------------------+----------+------------+------------+-----------+-----------+---------------+-----------------+------+--------+--------+----------+--------+-------+---------+----------+------------+--------------------+\n",
      "only showing top 5 rows\n",
      "\n"
     ]
    }
   ],
   "source": [
    "file1.show(5)"
   ]
  },
  {
   "cell_type": "code",
   "execution_count": null,
   "metadata": {
    "scrolled": true
   },
   "outputs": [],
   "source": []
  },
  {
   "cell_type": "code",
   "execution_count": 10,
   "metadata": {},
   "outputs": [
    {
     "data": {
      "text/plain": [
       "2468571"
      ]
     },
     "execution_count": 10,
     "metadata": {},
     "output_type": "execute_result"
    }
   ],
   "source": [
    "file1.count()"
   ]
  },
  {
   "cell_type": "markdown",
   "metadata": {},
   "source": [
    "# Creating all the dimension and fact tables from the given data \n"
   ]
  },
  {
   "cell_type": "markdown",
   "metadata": {},
   "source": [
    "## creating location dimension table "
   ]
  },
  {
   "cell_type": "code",
   "execution_count": 11,
   "metadata": {},
   "outputs": [],
   "source": [
    "# selecting the required columns\n",
    "loc_dim= file1.select([\"atm_location\",\"atm_streetname\",\"atm_street_number\",\"atm_zipcode\",\"atm_lat\",\"atm_lon\"]).distinct()"
   ]
  },
  {
   "cell_type": "code",
   "execution_count": 12,
   "metadata": {},
   "outputs": [],
   "source": [
    "dim_loc=file1.select([\"atm_location\",\"atm_streetname\",\"atm_street_number\",\"atm_zipcode\",\"atm_lat\",\"atm_lon\"]).distinct().count()"
   ]
  },
  {
   "cell_type": "code",
   "execution_count": 13,
   "metadata": {},
   "outputs": [
    {
     "data": {
      "text/plain": [
       "109"
      ]
     },
     "execution_count": 13,
     "metadata": {},
     "output_type": "execute_result"
    }
   ],
   "source": [
    "#count of values\n",
    "dim_loc"
   ]
  },
  {
   "cell_type": "code",
   "execution_count": 15,
   "metadata": {
    "scrolled": true
   },
   "outputs": [
    {
     "name": "stdout",
     "output_type": "stream",
     "text": [
      "+--------------+--------------+-----------------+-----------+-------+-------+-----------+\n",
      "|  atm_location|atm_streetname|atm_street_number|atm_zipcode|atm_lat|atm_lon|location_id|\n",
      "+--------------+--------------+-----------------+-----------+-------+-------+-----------+\n",
      "|      NÃ¦stved|   Farimagsvej|                8|       4700| 55.233| 11.763|          1|\n",
      "|Skelagervej 15|   Skelagervej|               15|       9000| 57.023|  9.891|          1|\n",
      "|     Svenstrup|  GodthÃ¥bsvej|               14|       9230| 56.973|  9.851|          1|\n",
      "|         Durup|        Torvet|                4|       7870| 56.745|  8.949|          1|\n",
      "+--------------+--------------+-----------------+-----------+-------+-------+-----------+\n",
      "only showing top 4 rows\n",
      "\n"
     ]
    }
   ],
   "source": [
    "# adding location id to location dinmesion table \n",
    "loc_dim_rdd=loc_dim.rdd.zipWithIndex().map(lambda (row,rowId) : ( list(row) + [rowId+1]))\n",
    "loc_dim= loc_dim.withColumn(\"location_id\",lit(\"1\"))\n",
    "loc_dim.show(4)"
   ]
  },
  {
   "cell_type": "code",
   "execution_count": 16,
   "metadata": {},
   "outputs": [],
   "source": [
    "# converting the rrd to dataframe\n",
    "sqlContext = SQLContext(sc)\n",
    "DIM_LOCATION = sqlContext.createDataFrame(loc_dim_rdd, schema= loc_dim.schema).select([\"location_id\",\"atm_location\",\"atm_streetname\",\"atm_street_number\",\"atm_zipcode\",\"atm_lat\",\"atm_lon\"])"
   ]
  },
  {
   "cell_type": "code",
   "execution_count": 17,
   "metadata": {},
   "outputs": [
    {
     "name": "stdout",
     "output_type": "stream",
     "text": [
      "+-----------+--------------------+--------------------+-----------------+-----------+-------+-------+\n",
      "|location_id|        atm_location|      atm_streetname|atm_street_number|atm_zipcode|atm_lat|atm_lon|\n",
      "+-----------+--------------------+--------------------+-----------------+-----------+-------+-------+\n",
      "|          1|            NÃ¦stved|         Farimagsvej|                8|       4700| 55.233| 11.763|\n",
      "|          2|      Skelagervej 15|         Skelagervej|               15|       9000| 57.023|  9.891|\n",
      "|          3|           Svenstrup|        GodthÃ¥bsvej|               14|       9230| 56.973|  9.851|\n",
      "|          4|               Durup|              Torvet|                4|       7870| 56.745|  8.949|\n",
      "|          5|           Svendborg|  Sankt Nicolai Gade|                1|       5700| 55.058| 10.609|\n",
      "|          6|           HjÃ¸rring|          Ã˜stergade|                8|       9800| 57.459|  9.988|\n",
      "|          7|   Ã˜sterÃ¥  MÃ¸ller|            Ã˜sterÃ¥|               12|       9000| 57.049|  9.922|\n",
      "|          8|             Herning|          Dalgasgade|               30|       7400| 56.135|  8.971|\n",
      "|          9|Intern  BrÃ¸nderslev|              Algade|                4|       9700| 57.269|  9.945|\n",
      "|         10|Aalborg Storcente...|            Hobrovej|              452|       9200| 57.005|  9.876|\n",
      "|         11|            Slagelse|    Mariendals AllÃ¨|               29|       4200| 55.398| 11.342|\n",
      "|         12|             Vodskov|          Vodskovvej|               27|       9310| 57.104| 10.027|\n",
      "|         13|  Storcenter indg. A|            Hobrovej|              452|       9200| 57.005|  9.876|\n",
      "|         14|               KÃ¸ge|        SÃ¸ndre Alle|                1|       4600| 55.454| 12.181|\n",
      "|         15|     Brugsen i Breum|         AakjÃ¦rsvej|                1|       7870| 56.688|  9.069|\n",
      "|         16|           Storvorde|       VandvÃ¦rksvej|                2|       9280| 57.005| 10.101|\n",
      "|         17|           Hirtshals|JÃ¸rgen Fibigersgade|                4|       9850| 57.591|  9.957|\n",
      "|         18|            HÃ¸rning|          NÃ¸rrealle|               12|       8362| 56.086| 10.037|\n",
      "|         19|           Hjallerup|   Hjallerup Centret|               18|       9320| 57.168| 10.148|\n",
      "|         20|NykÃ¸bing Mors Lobby|         Kirketorvet|                1|       7900| 56.795|   8.86|\n",
      "+-----------+--------------------+--------------------+-----------------+-----------+-------+-------+\n",
      "only showing top 20 rows\n",
      "\n"
     ]
    }
   ],
   "source": [
    "DIM_LOCATION.show()"
   ]
  },
  {
   "cell_type": "code",
   "execution_count": 18,
   "metadata": {},
   "outputs": [],
   "source": [
    "# renaming column headers\n",
    "dim_location = DIM_LOCATION.selectExpr(\"location_id as location_id\",\"atm_location as location\",\"atm_streetname as streetname\",\"atm_street_number as street_number\",\"atm_zipcode as zipcode\",\"atm_lat as lat\",\"atm_lon as lon\")"
   ]
  },
  {
   "cell_type": "code",
   "execution_count": 19,
   "metadata": {},
   "outputs": [
    {
     "name": "stdout",
     "output_type": "stream",
     "text": [
      "+-----------+--------------+------------------+-------------+-------+------+------+\n",
      "|location_id|      location|        streetname|street_number|zipcode|   lat|   lon|\n",
      "+-----------+--------------+------------------+-------------+-------+------+------+\n",
      "|          1|      NÃ¦stved|       Farimagsvej|            8|   4700|55.233|11.763|\n",
      "|          2|     Svenstrup|      GodthÃ¥bsvej|           14|   9230|56.973| 9.851|\n",
      "|          3|Skelagervej 15|       Skelagervej|           15|   9000|57.023| 9.891|\n",
      "|          4|     Svendborg|Sankt Nicolai Gade|            1|   5700|55.058|10.609|\n",
      "|          5|         Durup|            Torvet|            4|   7870|56.745| 8.949|\n",
      "+-----------+--------------+------------------+-------------+-------+------+------+\n",
      "only showing top 5 rows\n",
      "\n"
     ]
    }
   ],
   "source": [
    "dim_location.show(5)"
   ]
  },
  {
   "cell_type": "markdown",
   "metadata": {},
   "source": [
    "## creating atm dimnesion table "
   ]
  },
  {
   "cell_type": "code",
   "execution_count": 20,
   "metadata": {},
   "outputs": [],
   "source": [
    "# selecting the required columns\n",
    "atm_dim= file1.select([\"atm_id\",\"atm_manufacturer\",\"atm_location\",\"atm_streetname\",\"atm_street_number\",\"atm_zipcode\",\"atm_lat\",\"atm_lon\"]).distinct()"
   ]
  },
  {
   "cell_type": "code",
   "execution_count": 21,
   "metadata": {},
   "outputs": [
    {
     "name": "stdout",
     "output_type": "stream",
     "text": [
      "+------+----------------+--------------------+--------------------+-----------------+-----------+-------+-------+\n",
      "|atm_id|atm_manufacturer|        atm_location|      atm_streetname|atm_street_number|atm_zipcode|atm_lat|atm_lon|\n",
      "+------+----------------+--------------------+--------------------+-----------------+-----------+-------+-------+\n",
      "|    45|             NCR|          Abildgaard|        HjÃ¸rringvej|              144|       9900| 57.447| 10.506|\n",
      "|     4|             NCR|          Svogerslev|          BrÃ¸nsager|                1|       4000| 55.634| 12.018|\n",
      "|    47|             NCR|       Frederiksberg|     Gammel Kongevej|              157|       1850| 55.677| 12.537|\n",
      "|    72|             NCR|Daglig Brugsen Ã˜...|           Kystvejen|               51|       9560| 56.804| 10.271|\n",
      "|    11|             NCR|           Sauersvej|Fridtjof Nansens Vej|                2|       9210| 57.023|   9.94|\n",
      "+------+----------------+--------------------+--------------------+-----------------+-----------+-------+-------+\n",
      "only showing top 5 rows\n",
      "\n"
     ]
    }
   ],
   "source": [
    "atm_dim.show(5)"
   ]
  },
  {
   "cell_type": "code",
   "execution_count": 22,
   "metadata": {},
   "outputs": [],
   "source": [
    "# renaming the column\n",
    "atm_dim1 = atm_dim.selectExpr(\"atm_id as atm_number\",\"atm_manufacturer as atm_manufacturer\",\"atm_location as location\",\"atm_streetname as streetname\",\"atm_street_number as street_number\",\"atm_zipcode as zipcode\",\"atm_lat as lat\",\"atm_lon as lon\")"
   ]
  },
  {
   "cell_type": "code",
   "execution_count": 23,
   "metadata": {},
   "outputs": [
    {
     "name": "stdout",
     "output_type": "stream",
     "text": [
      "+----------+----------------+--------------------+--------------------+-------------+-------+------+------+\n",
      "|atm_number|atm_manufacturer|            location|          streetname|street_number|zipcode|   lat|   lon|\n",
      "+----------+----------------+--------------------+--------------------+-------------+-------+------+------+\n",
      "|        45|             NCR|          Abildgaard|        HjÃ¸rringvej|          144|   9900|57.447|10.506|\n",
      "|         4|             NCR|          Svogerslev|          BrÃ¸nsager|            1|   4000|55.634|12.018|\n",
      "|        47|             NCR|       Frederiksberg|     Gammel Kongevej|          157|   1850|55.677|12.537|\n",
      "|        11|             NCR|           Sauersvej|Fridtjof Nansens Vej|            2|   9210|57.023|  9.94|\n",
      "|        72|             NCR|Daglig Brugsen Ã˜...|           Kystvejen|           51|   9560|56.804|10.271|\n",
      "+----------+----------------+--------------------+--------------------+-------------+-------+------+------+\n",
      "only showing top 5 rows\n",
      "\n"
     ]
    }
   ],
   "source": [
    "atm_dim1.show(5)"
   ]
  },
  {
   "cell_type": "code",
   "execution_count": 24,
   "metadata": {},
   "outputs": [
    {
     "name": "stdout",
     "output_type": "stream",
     "text": [
      "+----------+----------------+--------------------+--------------------+-------------+-------+------+------+------+\n",
      "|atm_number|atm_manufacturer|            location|          streetname|street_number|zipcode|   lat|   lon|atm_id|\n",
      "+----------+----------------+--------------------+--------------------+-------------+-------+------+------+------+\n",
      "|         4|             NCR|          Svogerslev|          BrÃ¸nsager|            1|   4000|55.634|12.018|     1|\n",
      "|        45|             NCR|          Abildgaard|        HjÃ¸rringvej|          144|   9900|57.447|10.506|     1|\n",
      "|        47|             NCR|       Frederiksberg|     Gammel Kongevej|          157|   1850|55.677|12.537|     1|\n",
      "|        72|             NCR|Daglig Brugsen Ã˜...|           Kystvejen|           51|   9560|56.804|10.271|     1|\n",
      "|        11|             NCR|           Sauersvej|Fridtjof Nansens Vej|            2|   9210|57.023|  9.94|     1|\n",
      "+----------+----------------+--------------------+--------------------+-------------+-------+------+------+------+\n",
      "only showing top 5 rows\n",
      "\n"
     ]
    }
   ],
   "source": [
    "# adding a atm id to atm dimension table \n",
    "atm_dim_rdd=atm_dim1.rdd.zipWithIndex().map(lambda (row,rowId) : ( list(row) + [rowId+1]))\n",
    "atm_dim= atm_dim1.withColumn(\"atm_id\",lit(\"1\"))\n",
    "atm_dim.show(5)"
   ]
  },
  {
   "cell_type": "code",
   "execution_count": 25,
   "metadata": {},
   "outputs": [],
   "source": [
    "# converting the rrd to dataframe\n",
    "dim_atm_df= sqlContext.createDataFrame(atm_dim_rdd, schema= atm_dim.schema).select([\"atm_id\",\"atm_number\",\"atm_manufacturer\",\"location\",\"streetname\",\"street_number\",\"zipcode\",\"lat\",\"lon\"])"
   ]
  },
  {
   "cell_type": "code",
   "execution_count": 26,
   "metadata": {},
   "outputs": [
    {
     "name": "stdout",
     "output_type": "stream",
     "text": [
      "+------+----------+----------------+--------------------+--------------------+-------------+-------+------+------+\n",
      "|atm_id|atm_number|atm_manufacturer|            location|          streetname|street_number|zipcode|   lat|   lon|\n",
      "+------+----------+----------------+--------------------+--------------------+-------------+-------+------+------+\n",
      "|     1|         4|             NCR|          Svogerslev|          BrÃ¸nsager|            1|   4000|55.634|12.018|\n",
      "|     2|        45|             NCR|          Abildgaard|        HjÃ¸rringvej|          144|   9900|57.447|10.506|\n",
      "|     3|        47|             NCR|       Frederiksberg|     Gammel Kongevej|          157|   1850|55.677|12.537|\n",
      "|     4|        11|             NCR|           Sauersvej|Fridtjof Nansens Vej|            2|   9210|57.023|  9.94|\n",
      "|     5|        72|             NCR|Daglig Brugsen Ã˜...|           Kystvejen|           51|   9560|56.804|10.271|\n",
      "|     6|        84|             NCR|           Svendborg|  Sankt Nicolai Gade|            1|   5700|55.058|10.609|\n",
      "|     7|        96|             NCR|      Aalborg Hallen|        Europa Plads|            4|   9000|57.044| 9.913|\n",
      "|     8|       108|             NCR|     HÃ¸rning Hallen|            Toftevej|           53|   8362|56.091|10.033|\n",
      "|     9|        76|             NCR|    DAYZ Feriecenter|            LivÃ¸vej|           80|   9681|56.893| 9.171|\n",
      "|    10|        28|             NCR|           LÃ¸gstÃ¸r|       Ã˜sterbrogade|            8|   9670|56.967| 9.253|\n",
      "|    11|        36|             NCR|           HjÃ¸rring|          Ã˜stergade|            8|   9800|57.459| 9.988|\n",
      "|    12|        85| Diebold Nixdorf|          KÃ¸benhavn|      Regnbuepladsen|            5|   1550|55.676|12.571|\n",
      "|    13|        33|             NCR|               Vadum|      Ellehammersvej|           43|   9430|57.118| 9.861|\n",
      "|    14|        71|             NCR|             AalbÃ¦k|          Centralvej|            5|   9982|57.593|10.412|\n",
      "|    15|        13|             NCR|               SÃ¦by|          Vestergade|            3|   9300|57.334|10.515|\n",
      "|    16|        14|             NCR|            HÃ¸rning|          NÃ¸rrealle|           12|   8362|56.086|10.037|\n",
      "|    17|        40| Diebold Nixdorf|       Frederikshavn|        Danmarksgade|           48|   9900|57.441|10.537|\n",
      "|    18|        15|             NCR|              Vestre|           Kastetvej|           36|   9000|57.053| 9.905|\n",
      "|    19|        19|             NCR|             Kolding|            Vejlevej|          135|   6000|55.505| 9.457|\n",
      "|    20|       109| Diebold Nixdorf|         Aalborg Syd|            Hobrovej|          440|   9200|57.005| 9.881|\n",
      "+------+----------+----------------+--------------------+--------------------+-------------+-------+------+------+\n",
      "only showing top 20 rows\n",
      "\n"
     ]
    }
   ],
   "source": [
    "dim_atm_df.show()"
   ]
  },
  {
   "cell_type": "code",
   "execution_count": 27,
   "metadata": {},
   "outputs": [],
   "source": [
    "dim_atm = dim_atm_df.join(dim_location,on=['lat','lon'],how='left').select(\"atm_id\",\"atm_number\",\"atm_manufacturer\",\"location_id\").drop(*['location','streetname','street_number','zipcode','lat','lon']) "
   ]
  },
  {
   "cell_type": "code",
   "execution_count": 28,
   "metadata": {},
   "outputs": [
    {
     "name": "stdout",
     "output_type": "stream",
     "text": [
      "+------+----------+----------------+-----------+\n",
      "|atm_id|atm_number|atm_manufacturer|location_id|\n",
      "+------+----------+----------------+-----------+\n",
      "|   105|        18| Diebold Nixdorf|         41|\n",
      "|    29|       101|             NCR|         32|\n",
      "|    84|         9| Diebold Nixdorf|         92|\n",
      "|    24|        64|             NCR|         58|\n",
      "|    93|        59| Diebold Nixdorf|         20|\n",
      "|    93|        59| Diebold Nixdorf|         50|\n",
      "|    99|        30|             NCR|         20|\n",
      "|    99|        30|             NCR|         50|\n",
      "|    62|        21|             NCR|         93|\n",
      "|    62|        21|             NCR|         94|\n",
      "|    62|        21|             NCR|          7|\n",
      "|    94|        12|             NCR|         93|\n",
      "|    94|        12|             NCR|         94|\n",
      "|    94|        12|             NCR|          7|\n",
      "|    53|       104|             NCR|         93|\n",
      "|    53|       104|             NCR|         94|\n",
      "|    53|       104|             NCR|          7|\n",
      "|    54|        39|             NCR|          2|\n",
      "|   101|        55|             NCR|         44|\n",
      "|    73|       106|             NCR|         75|\n",
      "+------+----------+----------------+-----------+\n",
      "only showing top 20 rows\n",
      "\n"
     ]
    }
   ],
   "source": [
    "dim_atm.show()"
   ]
  },
  {
   "cell_type": "code",
   "execution_count": 29,
   "metadata": {},
   "outputs": [
    {
     "data": {
      "text/plain": [
       "156"
      ]
     },
     "execution_count": 29,
     "metadata": {},
     "output_type": "execute_result"
    }
   ],
   "source": [
    "dim_atm.count() "
   ]
  },
  {
   "cell_type": "markdown",
   "metadata": {},
   "source": [
    "## creating data dimension table "
   ]
  },
  {
   "cell_type": "code",
   "execution_count": 30,
   "metadata": {},
   "outputs": [],
   "source": [
    "# selecting the required columns\n",
    "date_df =file1.select([\"year\",\"month\",\"day\",\"weekday\",\"hour\"]).distinct()"
   ]
  },
  {
   "cell_type": "code",
   "execution_count": 31,
   "metadata": {},
   "outputs": [
    {
     "data": {
      "text/plain": [
       "8685"
      ]
     },
     "execution_count": 31,
     "metadata": {},
     "output_type": "execute_result"
    }
   ],
   "source": [
    "date_df.count()"
   ]
  },
  {
   "cell_type": "code",
   "execution_count": 32,
   "metadata": {},
   "outputs": [],
   "source": [
    "date_df = date_df.withColumn(\"month_number\",from_unixtime(unix_timestamp(col(\"month\"),'MMMM'),'MM'))"
   ]
  },
  {
   "cell_type": "code",
   "execution_count": 33,
   "metadata": {},
   "outputs": [
    {
     "name": "stdout",
     "output_type": "stream",
     "text": [
      "+----+------+---+--------+----+------------+\n",
      "|year| month|day| weekday|hour|month_number|\n",
      "+----+------+---+--------+----+------------+\n",
      "|2017|  July| 18| Tuesday|   9|          07|\n",
      "|2017|  July| 18| Tuesday|  22|          07|\n",
      "|2017|  July| 20|Thursday|   0|          07|\n",
      "|2017|  July| 21|  Friday|  19|          07|\n",
      "|2017|August|  1| Tuesday|   4|          08|\n",
      "+----+------+---+--------+----+------------+\n",
      "only showing top 5 rows\n",
      "\n"
     ]
    }
   ],
   "source": [
    "date_df.show(5)"
   ]
  },
  {
   "cell_type": "code",
   "execution_count": 34,
   "metadata": {},
   "outputs": [],
   "source": [
    "\n",
    "\n",
    "dim_date = date_df.withColumn('full_date_time', F.concat('year',F.lit('-'),'month_number',F.lit('-'),'day',F.lit(' '),'hour',F.lit(':00'))).select(\"full_date_time\",\"year\",\"month\",\"day\",\"hour\",\"weekday\")"
   ]
  },
  {
   "cell_type": "code",
   "execution_count": 35,
   "metadata": {},
   "outputs": [
    {
     "name": "stdout",
     "output_type": "stream",
     "text": [
      "+----------------+----+------+---+----+--------+\n",
      "|  full_date_time|year| month|day|hour| weekday|\n",
      "+----------------+----+------+---+----+--------+\n",
      "| 2017-07-18 9:00|2017|  July| 18|   9| Tuesday|\n",
      "|2017-07-18 22:00|2017|  July| 18|  22| Tuesday|\n",
      "| 2017-07-20 0:00|2017|  July| 20|   0|Thursday|\n",
      "|2017-07-21 19:00|2017|  July| 21|  19|  Friday|\n",
      "|  2017-08-1 4:00|2017|August|  1|   4| Tuesday|\n",
      "+----------------+----+------+---+----+--------+\n",
      "only showing top 5 rows\n",
      "\n"
     ]
    }
   ],
   "source": [
    "dim_date.show(5)"
   ]
  },
  {
   "cell_type": "code",
   "execution_count": 36,
   "metadata": {},
   "outputs": [],
   "source": [
    "# adding a date id to date dimension table\n",
    "w = Window.orderBy(\"year\")\n",
    "dim_date = dim_date.select(row_number().over(w).alias(\"date_id\"),col(\"*\"))"
   ]
  },
  {
   "cell_type": "code",
   "execution_count": 37,
   "metadata": {},
   "outputs": [],
   "source": [
    "format = \"yyyy-MM-dd HH:mm:ss\"\n",
    "dim_date = dim_date.withColumn(\"full-date_time\",unix_timestamp(\"full_date_time\", format).cast(\"timestamp\"))"
   ]
  },
  {
   "cell_type": "code",
   "execution_count": 38,
   "metadata": {},
   "outputs": [],
   "source": [
    "dim_date = dim_date.select([\"date_id\",\"full_date_time\",\"year\",\"month\",\"day\",\"weekday\",\"hour\"])"
   ]
  },
  {
   "cell_type": "code",
   "execution_count": 39,
   "metadata": {},
   "outputs": [
    {
     "data": {
      "text/plain": [
       "8685"
      ]
     },
     "execution_count": 39,
     "metadata": {},
     "output_type": "execute_result"
    }
   ],
   "source": [
    "dim_date.count()"
   ]
  },
  {
   "cell_type": "code",
   "execution_count": 40,
   "metadata": {},
   "outputs": [
    {
     "name": "stdout",
     "output_type": "stream",
     "text": [
      "+-------+----------------+----+-----+---+--------+----+\n",
      "|date_id|  full_date_time|year|month|day| weekday|hour|\n",
      "+-------+----------------+----+-----+---+--------+----+\n",
      "|      1| 2017-07-18 9:00|2017| July| 18| Tuesday|   9|\n",
      "|      2|2017-07-18 22:00|2017| July| 18| Tuesday|  22|\n",
      "|      3| 2017-07-20 0:00|2017| July| 20|Thursday|   0|\n",
      "|      4|2017-07-21 19:00|2017| July| 21|  Friday|  19|\n",
      "+-------+----------------+----+-----+---+--------+----+\n",
      "only showing top 4 rows\n",
      "\n"
     ]
    }
   ],
   "source": [
    "dim_date.show(4)"
   ]
  },
  {
   "cell_type": "markdown",
   "metadata": {},
   "source": [
    "## creating card type dimension"
   ]
  },
  {
   "cell_type": "code",
   "execution_count": 41,
   "metadata": {},
   "outputs": [],
   "source": [
    "# selecting the required columns\n",
    "dim_card = file1.select([\"card_type\"]).distinct()"
   ]
  },
  {
   "cell_type": "code",
   "execution_count": 42,
   "metadata": {},
   "outputs": [],
   "source": [
    "# adding a card id to card dimension table\n",
    "w = Window.orderBy(\"card_type\")\n",
    "dim_card = dim_card.select(row_number().over(w).alias(\"card_type_id\"),col(\"*\"))"
   ]
  },
  {
   "cell_type": "code",
   "execution_count": 43,
   "metadata": {},
   "outputs": [
    {
     "name": "stdout",
     "output_type": "stream",
     "text": [
      "+------------+--------------------+\n",
      "|card_type_id|           card_type|\n",
      "+------------+--------------------+\n",
      "|           1|              CIRRUS|\n",
      "|           2|             Dankort|\n",
      "|           3|     Dankort - on-us|\n",
      "|           4|           HÃ¦vekort|\n",
      "|           5|   HÃ¦vekort - on-us|\n",
      "|           6|             Maestro|\n",
      "|           7|          MasterCard|\n",
      "|           8|  Mastercard - on-us|\n",
      "|           9|                VISA|\n",
      "|          10|        Visa Dankort|\n",
      "|          11|Visa Dankort - on-us|\n",
      "|          12|            VisaPlus|\n",
      "+------------+--------------------+\n",
      "\n"
     ]
    }
   ],
   "source": [
    "dim_card.show()"
   ]
  },
  {
   "cell_type": "code",
   "execution_count": 44,
   "metadata": {},
   "outputs": [
    {
     "data": {
      "text/plain": [
       "12"
      ]
     },
     "execution_count": 44,
     "metadata": {},
     "output_type": "execute_result"
    }
   ],
   "source": [
    "dim_card.count()"
   ]
  },
  {
   "cell_type": "markdown",
   "metadata": {},
   "source": [
    "### Creating Fact table for all atm transation "
   ]
  },
  {
   "cell_type": "code",
   "execution_count": 45,
   "metadata": {},
   "outputs": [],
   "source": [
    "# selecting the columns for creating fact table \n",
    "fact_atm_trans = file1.select([\"year\",\"month\",\"day\",\"weekday\",\"hour\",\"atm_status\",\"atm_id\",\"atm_manufacturer\",\"atm_location\",\"atm_streetname\",\"atm_street_number\",\"atm_zipcode\",\"atm_lat\",\"atm_lon\",\"currency\",\"card_type\",\"transaction_amount\",\"service\",\"message_code\",\"message_text\",\"weather_lat\",\"weather_lon\",\"weather_city_id\",\"weather_city_name\",\"temp\",\"pressure\",\"humidity\",\"wind_speed\",\"wind_deg\",\"rain_3h\",\"cloud_all\",\"weather_id\",\"weather_main\",\"weather_description\"])"
   ]
  },
  {
   "cell_type": "code",
   "execution_count": 46,
   "metadata": {},
   "outputs": [
    {
     "data": {
      "text/plain": [
       "2468571"
      ]
     },
     "execution_count": 46,
     "metadata": {},
     "output_type": "execute_result"
    }
   ],
   "source": [
    "# count excluding the header \n",
    "fact_atm_trans.count()"
   ]
  },
  {
   "cell_type": "code",
   "execution_count": 47,
   "metadata": {},
   "outputs": [],
   "source": [
    "#creating Trans_id for fact table \n",
    "fact_rdd=fact_atm_trans.rdd.zipWithIndex().map(lambda (row,rowId) : ( list(row) + [rowId+1]))\n",
    "fact_atm_trans= fact_atm_trans.withColumn(\"trans_id\",lit(\"1\"))"
   ]
  },
  {
   "cell_type": "code",
   "execution_count": 48,
   "metadata": {},
   "outputs": [],
   "source": [
    "# converting the rrd to a dataframe \n",
    "fact_atm_trans = sqlContext.createDataFrame(fact_rdd,schema= fact_atm_trans.schema).select([\"trans_id\",\"year\",\"month\",\"day\",\"weekday\",\"hour\",\"atm_status\",\"atm_id\",\"atm_manufacturer\",\"atm_location\",\"atm_streetname\",\"atm_street_number\",\"atm_zipcode\",\"atm_lat\",\"atm_lon\",\"currency\",\"card_type\",\"transaction_amount\",\"service\",\"message_code\",\"message_text\",\"weather_lat\",\"weather_lon\",\"weather_city_id\",\"weather_city_name\",\"temp\",\"pressure\",\"humidity\",\"wind_speed\",\"wind_deg\",\"rain_3h\",\"cloud_all\",\"weather_id\",\"weather_main\",\"weather_description\"])"
   ]
  },
  {
   "cell_type": "code",
   "execution_count": 49,
   "metadata": {},
   "outputs": [],
   "source": [
    "# renaming the column header\n",
    "facts_atm_trans = fact_atm_trans.withColumnRenamed(\"atm_id\",\"atm_number\") \\\n",
    "                .withColumnRenamed('atm_location','location') \\\n",
    "                .withColumnRenamed(\"atm_streetname\",\"streetname\") \\\n",
    "                .withColumnRenamed(\"atm_street_number\",\"street_number\") \\\n",
    "                .withColumnRenamed(\"atm_zipcode\",\"zipcode\") \\\n",
    "                .withColumnRenamed(\"atm_lat\",\"lat\") \\\n",
    "                .withColumnRenamed(\"atm_lon\",\"lon\") "
   ]
  },
  {
   "cell_type": "code",
   "execution_count": 50,
   "metadata": {},
   "outputs": [],
   "source": [
    "# joining loation dimension table with fact table \n",
    "facts_atm_trans= facts_atm_trans.join(dim_location,on=['location','streetname','street_number','zipcode','lat','lon'],how='left').select(\"*\").drop(*['location','streetname','street_number','zipcode','lat','lon']) "
   ]
  },
  {
   "cell_type": "code",
   "execution_count": 51,
   "metadata": {},
   "outputs": [],
   "source": [
    "# joining atm dimension table with fact table \n",
    "facts_atm_trans= facts_atm_trans.join(dim_atm,on=[\"atm_number\",\"atm_manufacturer\",\"location_id\"],how='left').select(\"*\").drop(*[\"atm_number\",\"atm_manufacturer\"]) "
   ]
  },
  {
   "cell_type": "code",
   "execution_count": 52,
   "metadata": {},
   "outputs": [],
   "source": [
    "# joining date dimension table with fact table \n",
    "facts_atm_trans= facts_atm_trans.join(dim_date,on=[\"year\",\"month\",\"day\",\"weekday\",\"hour\"],how='left').select(\"*\").drop(*[\"full_date_time\",\"year\",\"month\",\"day\",\"weekday\",\"hour\"]) "
   ]
  },
  {
   "cell_type": "code",
   "execution_count": 53,
   "metadata": {},
   "outputs": [],
   "source": [
    "# joining card dimension table with fact table \n",
    "facts_atm_trans= facts_atm_trans.join(dim_card,on=[\"card_type\"],how='left').select(\"*\").drop(*[\"card_type\"]) "
   ]
  },
  {
   "cell_type": "code",
   "execution_count": 54,
   "metadata": {},
   "outputs": [],
   "source": [
    "# rearranging the column and selecting required tables\n",
    "fact_atm_trans = facts_atm_trans.select([\"trans_id\",\"atm_id\",\"location_id\",\"date_id\",\"card_type_id\",\"atm_status\",\"currency\",\"service\",\"transaction_amount\",\"message_code\",\"message_text\",\"rain_3h\",\"cloud_all\",\"weather_id\",\"weather_main\",\"weather_description\"])"
   ]
  },
  {
   "cell_type": "code",
   "execution_count": 55,
   "metadata": {},
   "outputs": [
    {
     "name": "stdout",
     "output_type": "stream",
     "text": [
      "+--------+------+-----------+-------+------------+----------+--------+----------+------------------+------------+------------+-------+---------+----------+------------+-------------------+\n",
      "|trans_id|atm_id|location_id|date_id|card_type_id|atm_status|currency|   service|transaction_amount|message_code|message_text|rain_3h|cloud_all|weather_id|weather_main|weather_description|\n",
      "+--------+------+-----------+-------+------------+----------+--------+----------+------------------+------------+------------+-------+---------+----------+------------+-------------------+\n",
      "|  598777|    53|         94|   8616|           3|    Active|     DKK|Withdrawal|              7993|        null|        null|    0.0|       75|       803|      Clouds|      broken clouds|\n",
      "|  598943|    53|         94|   8616|           3|    Active|     DKK|Withdrawal|               101|        null|        null|    0.0|       75|       803|      Clouds|      broken clouds|\n",
      "+--------+------+-----------+-------+------------+----------+--------+----------+------------------+------------+------------+-------+---------+----------+------------+-------------------+\n",
      "only showing top 2 rows\n",
      "\n"
     ]
    }
   ],
   "source": [
    "fact_atm_trans.show(2)"
   ]
  },
  {
   "cell_type": "code",
   "execution_count": 56,
   "metadata": {},
   "outputs": [
    {
     "data": {
      "text/plain": [
       "2468571"
      ]
     },
     "execution_count": 56,
     "metadata": {},
     "output_type": "execute_result"
    }
   ],
   "source": [
    "# final count of fact table excluding header\n",
    "fact_atm_trans.count()"
   ]
  },
  {
   "cell_type": "markdown",
   "metadata": {},
   "source": [
    "### Loading the dataframe to S3 buckets"
   ]
  },
  {
   "cell_type": "code",
   "execution_count": null,
   "metadata": {},
   "outputs": [],
   "source": [
    "dim_location.coalesce(1).write.csv(\"s3a://devilatom/dim_location/ \",mode='overwrite')"
   ]
  },
  {
   "cell_type": "code",
   "execution_count": 61,
   "metadata": {},
   "outputs": [],
   "source": [
    "dim_atm.coalesce(1).write.csv(\"s3a://devilatom/dim_atm \",mode='overwrite')"
   ]
  },
  {
   "cell_type": "code",
   "execution_count": 62,
   "metadata": {},
   "outputs": [],
   "source": [
    "dim_date.coalesce(1).write.csv(\"s3a://devilatom/dim_date\",mode='overwrite')"
   ]
  },
  {
   "cell_type": "code",
   "execution_count": 63,
   "metadata": {},
   "outputs": [],
   "source": [
    "dim_card.coalesce(1).write.csv(\"s3a://devilatom/dim_card \",mode='overwrite')"
   ]
  },
  {
   "cell_type": "code",
   "execution_count": null,
   "metadata": {},
   "outputs": [],
   "source": [
    "fact_atm_trans.coalesce(1).write.csv(\"s3a://devilatom/fact_atm_trans \",mode='overwrite')"
   ]
  }
 ],
 "metadata": {
  "kernelspec": {
   "display_name": "Python 3",
   "language": "python",
   "name": "python3"
  },
  "language_info": {
   "codemirror_mode": {
    "name": "ipython",
    "version": 3
   },
   "file_extension": ".py",
   "mimetype": "text/x-python",
   "name": "python",
   "nbconvert_exporter": "python",
   "pygments_lexer": "ipython3",
   "version": "3.7.6"
  }
 },
 "nbformat": 4,
 "nbformat_minor": 2
}
